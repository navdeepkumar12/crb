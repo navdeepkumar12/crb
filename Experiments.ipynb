{
 "cells": [
  {
   "cell_type": "code",
   "execution_count": 1,
   "metadata": {},
   "outputs": [],
   "source": [
    "import numpy as np\n",
    "import matplotlib.pyplot as plt\n",
    "import mdptoolbox"
   ]
  },
  {
   "cell_type": "code",
   "execution_count": 37,
   "metadata": {},
   "outputs": [],
   "source": [
    "#single restless Bandit\n",
    "class rb:\n",
    "    n = 12 # number of states\n",
    "    S = np.arange(n)\n",
    "    R = np.zeros(n)\n",
    "    R[-1] = 1\n",
    "    R = np.transpose([R,R]) # reward matrix\n",
    "    A = np.transpose([np.ones(n),np.zeros(n)]) # subsidy matrix  \n",
    "    D = np.arange(n)\n",
    "    P0 = np.identity(n)/2\n",
    "    P1 = np.identity(n)/2\n",
    "    for i in range(n):\n",
    "        P0[i,np.mod(i+1,n)] = 1/2\n",
    "        P1[i,np.mod(i-1,n)] = 1/2\n",
    "    P = np.array([P0,P1])"
   ]
  },
  {
   "cell_type": "code",
   "execution_count": 38,
   "metadata": {},
   "outputs": [
    {
     "data": {
      "text/plain": [
       "0.492279052734375"
      ]
     },
     "execution_count": 38,
     "metadata": {},
     "output_type": "execute_result"
    }
   ],
   "source": [
    "rvi = mdptoolbox.mdp.RelativeValueIteration(rb.P, rb.R)\n",
    "rvi.run()\n",
    "rvi.average_reward"
   ]
  },
  {
   "cell_type": "code",
   "execution_count": 64,
   "metadata": {},
   "outputs": [],
   "source": [
    "def Swhittle(pm,r1,r2,d):\n",
    "    Pi = []\n",
    "    for l in np.arange(r1 ,r2,d):\n",
    "        rvi = mdptoolbox.mdp.RelativeValueIteration(pm.P,pm.R +l*pm.A)\n",
    "        rvi.run()\n",
    "        pi = rvi.policy # policy\n",
    "        Pi.append(pi)\n",
    "    return Pi\n",
    "\n",
    "def Whittle(pm,acc=0.01):\n",
    "    r = int(np.max(np.abs(pm.R))) + 1 # range\n",
    "    r1,r2 = -r,r\n",
    "    d= 2 # difference\n",
    "    flag = False\n",
    "    while not flag:\n",
    "        d = d/2\n",
    "        Pi = Swhittle(pm,r1,r2,d)\n",
    "        c = np.sum(Pi,axis=0) \n",
    "        flag = (len(c) == len(set(c))) or (d < acc)\n",
    "        if np.mean(Pi[0]) < 1: r1 = 2*r1\n",
    "        if np.mean(Pi[-1])> 0: r2 = 2*r2\n",
    "        print(r1,r1,d,len(c),len(set(c)),np.mean(Pi[0]),np.mean(Pi[-1]),c)\n",
    "    w = np.mean(Pi,axis=0) + r1\n",
    "    return w\n",
    "    "
   ]
  },
  {
   "cell_type": "code",
   "execution_count": 65,
   "metadata": {},
   "outputs": [
    {
     "ename": "TypeError",
     "evalue": "whittle() missing 1 required positional argument: 'd'",
     "output_type": "error",
     "traceback": [
      "\u001b[0;31m---------------------------------------------------------------------------\u001b[0m",
      "\u001b[0;31mTypeError\u001b[0m                                 Traceback (most recent call last)",
      "\u001b[0;32m<ipython-input-65-c511481455c4>\u001b[0m in \u001b[0;36m<module>\u001b[0;34m\u001b[0m\n\u001b[0;32m----> 1\u001b[0;31m \u001b[0mP\u001b[0m\u001b[0;34m,\u001b[0m\u001b[0mw\u001b[0m \u001b[0;34m=\u001b[0m \u001b[0mwhittle\u001b[0m\u001b[0;34m(\u001b[0m\u001b[0mrb\u001b[0m\u001b[0;34m,\u001b[0m\u001b[0;36m10\u001b[0m\u001b[0;34m,\u001b[0m\u001b[0;36m1\u001b[0m\u001b[0;34m)\u001b[0m\u001b[0;34m\u001b[0m\u001b[0;34m\u001b[0m\u001b[0m\n\u001b[0m",
      "\u001b[0;31mTypeError\u001b[0m: whittle() missing 1 required positional argument: 'd'"
     ]
    }
   ],
   "source": [
    "P,w = whittle(rb,10,1)"
   ]
  },
  {
   "cell_type": "code",
   "execution_count": 66,
   "metadata": {},
   "outputs": [
    {
     "name": "stdout",
     "output_type": "stream",
     "text": [
      "-2 -2 1.0 12 2 1.0 0.0 [3 3 3 3 3 2 2 2 2 2 2 2]\n",
      "-2 -2 0.5 12 4 1.0 0.0 [6 6 6 5 5 4 4 4 3 3 3 4]\n",
      "-2 -2 0.25 12 8 1.0 0.0 [12 11 11 10  9  8  8  7  6  6  5  8]\n",
      "-2 -2 0.125 12 11 1.0 0.0 [23 22 21 19 18 16 15 14 12 11 10 16]\n",
      "-2 -2 0.0625 12 11 1.0 0.0 [46 43 41 38 35 32 30 27 24 22 19 32]\n",
      "-2 -2 0.03125 12 11 1.0 0.0 [91 86 81 75 70 64 59 54 48 43 38 64]\n",
      "-2 -2 0.015625 12 11 1.0 0.0 [182 171 161 150 139 128 118 107  96  86  75 128]\n",
      "-2 -2 0.0078125 12 11 1.0 0.0 [363 342 321 299 278 256 235 214 192 171 150 256]\n"
     ]
    },
    {
     "data": {
      "text/plain": [
       "array([-1.29101562, -1.33203125, -1.37304688, -1.41601562, -1.45703125,\n",
       "       -1.5       , -1.54101562, -1.58203125, -1.625     , -1.66601562,\n",
       "       -1.70703125, -1.5       ])"
      ]
     },
     "execution_count": 66,
     "metadata": {},
     "output_type": "execute_result"
    }
   ],
   "source": [
    "Whittle(rb,0.01)"
   ]
  },
  {
   "cell_type": "code",
   "execution_count": 23,
   "metadata": {},
   "outputs": [
    {
     "data": {
      "text/plain": [
       "array([11, 11, 11, 11, 11, 10, 10, 10, 10, 10, 10, 10])"
      ]
     },
     "execution_count": 23,
     "metadata": {},
     "output_type": "execute_result"
    }
   ],
   "source": [
    "c = np.sum(P,axis=0)\n",
    "c"
   ]
  },
  {
   "cell_type": "code",
   "execution_count": null,
   "metadata": {},
   "outputs": [],
   "source": []
  },
  {
   "cell_type": "code",
   "execution_count": 29,
   "metadata": {},
   "outputs": [],
   "source": [
    "a = len(set(c)) != len(c)"
   ]
  },
  {
   "cell_type": "code",
   "execution_count": 32,
   "metadata": {},
   "outputs": [
    {
     "data": {
      "text/plain": [
       "[(1, 1, 1, 1, 1, 1, 1, 1, 1, 1, 1, 1),\n",
       " (1, 1, 1, 1, 1, 1, 1, 1, 1, 1, 1, 1),\n",
       " (1, 1, 1, 1, 1, 1, 1, 1, 1, 1, 1, 1),\n",
       " (1, 1, 1, 1, 1, 1, 1, 1, 1, 1, 1, 1),\n",
       " (1, 1, 1, 1, 1, 1, 1, 1, 1, 1, 1, 1),\n",
       " (1, 1, 1, 1, 1, 1, 1, 1, 1, 1, 1, 1),\n",
       " (1, 1, 1, 1, 1, 1, 1, 1, 1, 1, 1, 1),\n",
       " (1, 1, 1, 1, 1, 1, 1, 1, 1, 1, 1, 1),\n",
       " (1, 1, 1, 1, 1, 1, 1, 1, 1, 1, 1, 1),\n",
       " (1, 1, 1, 1, 1, 1, 1, 1, 1, 1, 1, 1),\n",
       " (1, 1, 1, 1, 1, 0, 0, 0, 0, 0, 0, 0),\n",
       " (0, 0, 0, 0, 0, 0, 0, 0, 0, 0, 0, 0),\n",
       " (0, 0, 0, 0, 0, 0, 0, 0, 0, 0, 0, 0),\n",
       " (0, 0, 0, 0, 0, 0, 0, 0, 0, 0, 0, 0),\n",
       " (0, 0, 0, 0, 0, 0, 0, 0, 0, 0, 0, 0),\n",
       " (0, 0, 0, 0, 0, 0, 0, 0, 0, 0, 0, 0),\n",
       " (0, 0, 0, 0, 0, 0, 0, 0, 0, 0, 0, 0),\n",
       " (0, 0, 0, 0, 0, 0, 0, 0, 0, 0, 0, 0),\n",
       " (0, 0, 0, 0, 0, 0, 0, 0, 0, 0, 0, 0),\n",
       " (0, 0, 0, 0, 0, 0, 0, 0, 0, 0, 0, 0),\n",
       " (0, 0, 0, 0, 0, 0, 0, 0, 0, 0, 0, 0)]"
      ]
     },
     "execution_count": 32,
     "metadata": {},
     "output_type": "execute_result"
    }
   ],
   "source": [
    "P"
   ]
  },
  {
   "cell_type": "code",
   "execution_count": null,
   "metadata": {},
   "outputs": [],
   "source": []
  }
 ],
 "metadata": {
  "kernelspec": {
   "display_name": "Python 3",
   "language": "python",
   "name": "python3"
  },
  "language_info": {
   "codemirror_mode": {
    "name": "ipython",
    "version": 3
   },
   "file_extension": ".py",
   "mimetype": "text/x-python",
   "name": "python",
   "nbconvert_exporter": "python",
   "pygments_lexer": "ipython3",
   "version": "3.7.4"
  }
 },
 "nbformat": 4,
 "nbformat_minor": 4
}
