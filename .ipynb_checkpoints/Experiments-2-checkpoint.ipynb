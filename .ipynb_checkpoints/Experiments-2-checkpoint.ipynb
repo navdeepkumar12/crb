{
 "cells": [
  {
   "cell_type": "code",
   "execution_count": 1,
   "metadata": {},
   "outputs": [],
   "source": [
    "import numpy as np\n",
    "import matplotlib.pyplot as plt\n",
    "import mdptoolbox\n",
    "import sys \n",
    "sys.path.append('/home/navdeep/scripts/')\n",
    "import tools as tl"
   ]
  },
  {
   "cell_type": "code",
   "execution_count": 2,
   "metadata": {},
   "outputs": [],
   "source": [
    "#single restless Bandit\n",
    "class pm:\n",
    "    n = 12 # number of states\n",
    "    S = np.arange(n)\n",
    "    R = np.zeros(n)\n",
    "    R[-1] = 1\n",
    "    R = np.transpose([R,R]) # reward matrix\n",
    "    A = np.transpose([np.zeros(n),np.ones(n)]) # subsidy matrix  \n",
    "    D = np.arange(n)\n",
    "    P0 = np.identity(n)/2\n",
    "    P1 = np.identity(n)/2\n",
    "    for i in range(n):\n",
    "        P0[i,np.mod(i+1,n)] = 1/2\n",
    "        P1[i,np.mod(i-1,n)] = 1/2\n",
    "    P = np.array([P0,P1])"
   ]
  },
  {
   "cell_type": "code",
   "execution_count": 18,
   "metadata": {},
   "outputs": [],
   "source": [
    "def pol(pm,l):\n",
    "    rvi = mdptoolbox.mdp.RelativeValueIteration(pm.P, pm.R+l*pm.A)\n",
    "    rvi.run()\n",
    "    rvi.average_reward\n",
    "\n",
    "    return rvi.policy\n",
    "        "
   ]
  },
  {
   "cell_type": "code",
   "execution_count": 20,
   "metadata": {},
   "outputs": [],
   "source": [
    "def stat(pm,pi):\n",
    "    P = np.array([pm.P[a][i] for i,a in enumerate(pi)])\n",
    "\n",
    "    for i in range(10):\n",
    "        P = P@P\n",
    "    d = np.round(np.mean(P, axis=0)*10000)/10000\n",
    "    return d"
   ]
  },
  {
   "cell_type": "code",
   "execution_count": 29,
   "metadata": {},
   "outputs": [],
   "source": [
    "A = []\n",
    "for l in np.arange(-2,2,0.1):\n",
    "    pi = pol(pm,l)\n",
    "    d = stat(pm,pi)\n",
    "    a = np.sum(d*pi)\n",
    "    r = np.sum(pm.R[:,0]*d)\n",
    "    A.append([a,r])\n",
    "A = np.array(A)    "
   ]
  },
  {
   "cell_type": "code",
   "execution_count": 31,
   "metadata": {},
   "outputs": [
    {
     "data": {
      "text/plain": [
       "[<matplotlib.lines.Line2D at 0x7f03a24777d0>]"
      ]
     },
     "execution_count": 31,
     "metadata": {},
     "output_type": "execute_result"
    },
    {
     "data": {
      "image/png": "[encoded data removed]",
      "text/plain": [
       "<Figure size 432x288 with 1 Axes>"
      ]
     },
     "metadata": {
      "needs_background": "light"
     },
     "output_type": "display_data"
    },
    {
     "data": {
      "image/png": "[encoded data removed]",
      "text/plain": [
       "<Figure size 432x288 with 1 Axes>"
      ]
     },
     "metadata": {
      "needs_background": "light"
     },
     "output_type": "display_data"
    }
   ],
   "source": [
    "plt.plot(A[::,0],'o')\n",
    "plt.figure()\n",
    "plt.plot(A[::,1],'o')"
   ]
  },
  {
   "cell_type": "code",
   "execution_count": 7,
   "metadata": {},
   "outputs": [
    {
     "name": "stdout",
     "output_type": "stream",
     "text": [
      "-2 -2 1.0 12 2 1.0 0.0 [3 3 3 3 3 2 2 2 2 2 2 2]\n",
      "-2 -2 0.5 12 4 1.0 0.0 [6 6 6 5 5 4 4 4 3 3 3 4]\n",
      "-2 -2 0.25 12 8 1.0 0.0 [12 11 11 10  9  8  8  7  6  6  5  8]\n",
      "-2 -2 0.125 12 11 1.0 0.0 [23 22 21 19 18 16 15 14 12 11 10 16]\n",
      "-2 -2 0.0625 12 11 1.0 0.0 [46 43 41 38 35 32 30 27 24 22 19 32]\n",
      "-2 -2 0.03125 12 11 1.0 0.0 [91 86 81 75 70 64 59 54 48 43 38 64]\n",
      "-2 -2 0.015625 12 11 1.0 0.0 [182 171 161 150 139 128 118 107  96  86  75 128]\n",
      "-2 -2 0.0078125 12 11 1.0 0.0 [363 342 321 299 278 256 235 214 192 171 150 256]\n"
     ]
    },
    {
     "data": {
      "text/plain": [
       "array([ 0.8359375,  0.671875 ,  0.5078125,  0.3359375,  0.171875 ,\n",
       "        0.       , -0.1640625, -0.328125 , -0.5      , -0.6640625,\n",
       "       -0.828125 ,  0.       ])"
      ]
     },
     "execution_count": 7,
     "metadata": {},
     "output_type": "execute_result"
    }
   ],
   "source": [
    "tl.whittle(pm)"
   ]
  },
  {
   "cell_type": "code",
   "execution_count": 32,
   "metadata": {},
   "outputs": [
    {
     "data": {
      "text/plain": [
       "array([[0.    , 0.0833],\n",
       "       [0.    , 0.0833],\n",
       "       [0.    , 0.0833],\n",
       "       [0.    , 0.0833],\n",
       "       [0.    , 0.0833],\n",
       "       [0.    , 0.0833],\n",
       "       [0.    , 0.0833],\n",
       "       [0.    , 0.0833],\n",
       "       [0.    , 0.0833],\n",
       "       [0.    , 0.0833],\n",
       "       [0.    , 0.0833],\n",
       "       [0.    , 0.0833],\n",
       "       [0.5   , 0.5   ],\n",
       "       [0.5   , 0.5   ],\n",
       "       [0.5   , 0.5   ],\n",
       "       [0.5   , 0.5   ],\n",
       "       [0.5   , 0.5   ],\n",
       "       [0.5   , 0.5   ],\n",
       "       [0.5   , 0.5   ],\n",
       "       [0.5   , 0.5   ],\n",
       "       [0.5   , 0.5   ],\n",
       "       [0.5   , 0.5   ],\n",
       "       [0.5   , 0.5   ],\n",
       "       [0.5   , 0.5   ],\n",
       "       [0.5   , 0.5   ],\n",
       "       [0.5   , 0.5   ],\n",
       "       [0.5   , 0.5   ],\n",
       "       [0.5   , 0.5   ],\n",
       "       [0.5   , 0.5   ],\n",
       "       [0.9996, 0.0833],\n",
       "       [0.9996, 0.0833],\n",
       "       [0.9996, 0.0833],\n",
       "       [0.9996, 0.0833],\n",
       "       [0.9996, 0.0833],\n",
       "       [0.9996, 0.0833],\n",
       "       [0.9996, 0.0833],\n",
       "       [0.9996, 0.0833],\n",
       "       [0.9996, 0.0833],\n",
       "       [0.9996, 0.0833],\n",
       "       [0.9996, 0.0833]])"
      ]
     },
     "execution_count": 32,
     "metadata": {},
     "output_type": "execute_result"
    }
   ],
   "source": [
    "A"
   ]
  },
  {
   "cell_type": "code",
   "execution_count": 27,
   "metadata": {},
   "outputs": [
    {
     "data": {
      "text/plain": [
       "array([5.00000000e-001, 5.69618908e-306, 5.56268465e-309, 0.00000000e+000,\n",
       "       0.00000000e+000, 0.00000000e+000, 0.00000000e+000, 0.00000000e+000,\n",
       "       0.00000000e+000, 0.00000000e+000, 0.00000000e+000, 5.00000000e-001])"
      ]
     },
     "execution_count": 27,
     "metadata": {},
     "output_type": "execute_result"
    }
   ],
   "source": [
    "P[2]"
   ]
  },
  {
   "cell_type": "code",
   "execution_count": 28,
   "metadata": {},
   "outputs": [
    {
     "data": {
      "text/plain": [
       "array([[5.00000000e-001, 0.00000000e+000, 0.00000000e+000,\n",
       "        0.00000000e+000, 0.00000000e+000, 0.00000000e+000,\n",
       "        0.00000000e+000, 0.00000000e+000, 0.00000000e+000,\n",
       "        0.00000000e+000, 0.00000000e+000, 5.00000000e-001],\n",
       "       [5.00000000e-001, 5.56268465e-309, 0.00000000e+000,\n",
       "        0.00000000e+000, 0.00000000e+000, 0.00000000e+000,\n",
       "        0.00000000e+000, 0.00000000e+000, 0.00000000e+000,\n",
       "        0.00000000e+000, 0.00000000e+000, 5.00000000e-001],\n",
       "       [5.00000000e-001, 5.69618908e-306, 5.56268465e-309,\n",
       "        0.00000000e+000, 0.00000000e+000, 0.00000000e+000,\n",
       "        0.00000000e+000, 0.00000000e+000, 0.00000000e+000,\n",
       "        0.00000000e+000, 0.00000000e+000, 5.00000000e-001],\n",
       "       [5.00000000e-001, 2.91360071e-303, 5.69618908e-306,\n",
       "        5.56268465e-309, 0.00000000e+000, 0.00000000e+000,\n",
       "        0.00000000e+000, 0.00000000e+000, 0.00000000e+000,\n",
       "        0.00000000e+000, 0.00000000e+000, 5.00000000e-001],\n",
       "       [5.00000000e-001, 9.92566643e-301, 2.91360071e-303,\n",
       "        5.69618908e-306, 5.56268465e-309, 0.00000000e+000,\n",
       "        0.00000000e+000, 0.00000000e+000, 0.00000000e+000,\n",
       "        0.00000000e+000, 0.00000000e+000, 5.00000000e-001],\n",
       "       [5.00000000e-001, 0.00000000e+000, 0.00000000e+000,\n",
       "        0.00000000e+000, 0.00000000e+000, 5.56268465e-309,\n",
       "        5.69618908e-306, 2.91360071e-303, 9.92566643e-301,\n",
       "        2.53352636e-298, 5.16839377e-296, 5.00000000e-001],\n",
       "       [5.00000000e-001, 0.00000000e+000, 0.00000000e+000,\n",
       "        0.00000000e+000, 0.00000000e+000, 0.00000000e+000,\n",
       "        5.56268465e-309, 5.69618908e-306, 2.91360071e-303,\n",
       "        9.92566643e-301, 2.53352636e-298, 5.00000000e-001],\n",
       "       [5.00000000e-001, 0.00000000e+000, 0.00000000e+000,\n",
       "        0.00000000e+000, 0.00000000e+000, 0.00000000e+000,\n",
       "        0.00000000e+000, 5.56268465e-309, 5.69618908e-306,\n",
       "        2.91360071e-303, 9.92566643e-301, 5.00000000e-001],\n",
       "       [5.00000000e-001, 0.00000000e+000, 0.00000000e+000,\n",
       "        0.00000000e+000, 0.00000000e+000, 0.00000000e+000,\n",
       "        0.00000000e+000, 0.00000000e+000, 5.56268465e-309,\n",
       "        5.69618908e-306, 2.91360071e-303, 5.00000000e-001],\n",
       "       [5.00000000e-001, 0.00000000e+000, 0.00000000e+000,\n",
       "        0.00000000e+000, 0.00000000e+000, 0.00000000e+000,\n",
       "        0.00000000e+000, 0.00000000e+000, 0.00000000e+000,\n",
       "        5.56268465e-309, 5.69618908e-306, 5.00000000e-001],\n",
       "       [5.00000000e-001, 0.00000000e+000, 0.00000000e+000,\n",
       "        0.00000000e+000, 0.00000000e+000, 0.00000000e+000,\n",
       "        0.00000000e+000, 0.00000000e+000, 0.00000000e+000,\n",
       "        0.00000000e+000, 5.56268465e-309, 5.00000000e-001],\n",
       "       [5.00000000e-001, 0.00000000e+000, 0.00000000e+000,\n",
       "        0.00000000e+000, 0.00000000e+000, 0.00000000e+000,\n",
       "        0.00000000e+000, 0.00000000e+000, 0.00000000e+000,\n",
       "        0.00000000e+000, 0.00000000e+000, 5.00000000e-001]])"
      ]
     },
     "execution_count": 28,
     "metadata": {},
     "output_type": "execute_result"
    }
   ],
   "source": [
    "P"
   ]
  },
  {
   "cell_type": "code",
   "execution_count": null,
   "metadata": {},
   "outputs": [],
   "source": []
  }
 ],
 "metadata": {
  "kernelspec": {
   "display_name": "Python 3",
   "language": "python",
   "name": "python3"
  },
  "language_info": {
   "codemirror_mode": {
    "name": "ipython",
    "version": 3
   },
   "file_extension": ".py",
   "mimetype": "text/x-python",
   "name": "python",
   "nbconvert_exporter": "python",
   "pygments_lexer": "ipython3",
   "version": "3.7.4"
  }
 },
 "nbformat": 4,
 "nbformat_minor": 4
}
