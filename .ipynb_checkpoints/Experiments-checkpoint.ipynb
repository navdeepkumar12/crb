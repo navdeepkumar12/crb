{
 "cells": [
  {
   "cell_type": "code",
   "execution_count": 1,
   "metadata": {},
   "outputs": [],
   "source": [
    "import numpy as np\n",
    "import matplotlib.pyplot as plt\n",
    "import mdptoolbox"
   ]
  },
  {
   "cell_type": "code",
   "execution_count": 2,
   "metadata": {},
   "outputs": [],
   "source": [
    "#single restless Bandit\n",
    "class rb:\n",
    "    n = 12 # number of states\n",
    "    S = np.arange(n)\n",
    "    R = np.zeros(n)\n",
    "    R[-1] = 1\n",
    "    R = np.transpose([R,R])\n",
    "    D = np.arange(n)\n",
    "    P0 = np.identity(n)/2\n",
    "    P1 = np.identity(n)/2\n",
    "    for i in range(n):\n",
    "        P0[i,np.mod(i+1,n)] = 1/2\n",
    "        P1[i,np.mod(i-1,n)] = 1/2\n",
    "    P = [P0,P1]"
   ]
  },
  {
   "cell_type": "code",
   "execution_count": 3,
   "metadata": {},
   "outputs": [
    {
     "data": {
      "text/plain": [
       "0.492279052734375"
      ]
     },
     "execution_count": 3,
     "metadata": {},
     "output_type": "execute_result"
    }
   ],
   "source": [
    "rvi = mdptoolbox.mdp.RelativeValueIteration(rb.P, rb.R)\n",
    "rvi.run()\n",
    "rvi.average_reward"
   ]
  },
  {
   "cell_type": "code",
   "execution_count": 5,
   "metadata": {},
   "outputs": [
    {
     "data": {
      "text/plain": [
       "(1, 1, 1, 1, 1, 0, 0, 0, 0, 0, 0, 0)"
      ]
     },
     "execution_count": 5,
     "metadata": {},
     "output_type": "execute_result"
    }
   ],
   "source": [
    "rvi.policy"
   ]
  },
  {
   "cell_type": "code",
   "execution_count": null,
   "metadata": {},
   "outputs": [],
   "source": []
  }
 ],
 "metadata": {
  "kernelspec": {
   "display_name": "Python 3",
   "language": "python",
   "name": "python3"
  },
  "language_info": {
   "codemirror_mode": {
    "name": "ipython",
    "version": 3
   },
   "file_extension": ".py",
   "mimetype": "text/x-python",
   "name": "python",
   "nbconvert_exporter": "python",
   "pygments_lexer": "ipython3",
   "version": "3.7.4"
  }
 },
 "nbformat": 4,
 "nbformat_minor": 4
}
