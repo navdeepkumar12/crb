{
 "cells": [
  {
   "cell_type": "code",
   "execution_count": 26,
   "metadata": {},
   "outputs": [],
   "source": [
    "import cv2\n",
    "import sys\n",
    "import numpy as np\n",
    "from datetime import datetime\n",
    "import matplotlib.pyplot as plt\n"
   ]
  },
  {
   "cell_type": "code",
   "execution_count": 27,
   "metadata": {},
   "outputs": [],
   "source": [
    "def star(output, centre):\n",
    "    t = 40\n",
    "    (x,y) = centre\n",
    "    output = cv2.line(output, (x-t, y-t), (x+t, y+t), (200,0,0), thickness=5, lineType=8, shift=0)\n",
    "    output = cv2.line(output, (x-t, y+t), (x+t, y-t), (200,0,0), thickness=5, lineType=8, shift=0)\n",
    "    return output\n",
    "\n",
    "def circle(output,centre):\n",
    "    cv2.circle(output, centre , 40 , (0, 0, 255), 2)    \n",
    "    return output\n",
    "\n",
    "def wline(output, finish_check_state_in_string):\n",
    "    temp = np.array(map(int,finish_check_state_in_string))\n",
    "    temp = np.where(temp > 1)\n",
    "    coordinate = location_to_cordinate(temp)\n",
    "    (x1,y1) = coordinate[0]\n",
    "    (x2,y2) = coordinate[2]\n",
    "    output = cv2.line(output, (x1, y1), (x2, y2), (100,100,0), thickness=5, lineType=8, shift=0)\n",
    "    \n",
    "\n",
    "def plot(output, coordinate1, coordinate2)  :\n",
    "    for centre1 in coordinate1:\n",
    "        output = circle(output, centre1 )\n",
    "    for centre2 in coordinate2:\n",
    "        output = star(output, centre2)\n",
    "    return output\n",
    "\n",
    "\n"
   ]
  },
  {
   "cell_type": "code",
   "execution_count": 28,
   "metadata": {},
   "outputs": [],
   "source": [
    "img = np.ones((1000,1000,3))*254"
   ]
  },
  {
   "cell_type": "code",
   "execution_count": 29,
   "metadata": {},
   "outputs": [
    {
     "name": "stderr",
     "output_type": "stream",
     "text": [
      "Clipping input data to the valid range for imshow with RGB data ([0..1] for floats or [0..255] for integers).\n"
     ]
    },
    {
     "data": {
      "text/plain": [
       "<matplotlib.image.AxesImage at 0x7fca337c02b0>"
      ]
     },
     "execution_count": 29,
     "metadata": {},
     "output_type": "execute_result"
    },
    {
     "data": {
      "image/png": "[encoded data removed]",
      "text/plain": [
       "<Figure size 432x288 with 1 Axes>"
      ]
     },
     "metadata": {
      "needs_background": "light"
     },
     "output_type": "display_data"
    }
   ],
   "source": [
    "plt.imshow(img)"
   ]
  },
  {
   "cell_type": "code",
   "execution_count": 88,
   "metadata": {},
   "outputs": [
    {
     "name": "stderr",
     "output_type": "stream",
     "text": [
      "Clipping input data to the valid range for imshow with RGB data ([0..1] for floats or [0..255] for integers).\n"
     ]
    },
    {
     "data": {
      "image/png": "[encoded data removed]",
      "text/plain": [
       "<Figure size 432x288 with 1 Axes>"
      ]
     },
     "metadata": {
      "needs_background": "light"
     },
     "output_type": "display_data"
    }
   ],
   "source": [
    "#convex, min\n",
    "def langrange():\n",
    "    img = np.ones((1000,1000,3))*254\n",
    "    img = cv2.line(img, (0,200) ,(100,1000), (200,0,0), thickness=5, lineType=8, shift=0)\n",
    "    img = cv2.line(img, (0,500) ,(500,1000), (200,0,0), thickness=5, lineType=8, shift=0)\n",
    "    img = cv2.line(img, (0,885) ,(1000,885), (200,0,0), thickness=5, lineType=8, shift=0)\n",
    "    img = cv2.line(img, (500,1000) ,(1000,500), (200,0,0), thickness=5, lineType=8, shift=0)\n",
    "    img = cv2.line(img, (800,1000) ,(1000,100), (200,0,0), thickness=5, lineType=8, shift=0)\n",
    "    img = cv2.line(img, (0,200) ,(42,542), (0,0,0), thickness=10, lineType=8, shift=0)\n",
    "    img = cv2.line(img,  (42,542),(385,885), (0,0,0), thickness=10, lineType=8, shift=0)\n",
    "    img = cv2.line(img,  (385,885),(625,885), (0,0,0), thickness=10, lineType=8, shift=0)\n",
    "    img = cv2.line(img,  (885,625),(625,885), (0,0,0), thickness=10, lineType=8, shift=0)\n",
    "    img = cv2.line(img,  (885,614),(1000,100), (0,0,0), thickness=10, lineType=8, shift=0)\n",
    "    img = cv2.circle(img, (500,885) , 120 , (0, 0, 255), 5) \n",
    "    \n",
    "    img = cv2.line(img, (0,500) ,(200,1000), (0,200,0), thickness=5, lineType=8, shift=0)\n",
    "    img = cv2.line(img, (0,900) ,(400,1000), (0,200,0), thickness=5, lineType=8, shift=0)\n",
    "    img = cv2.line(img, (450,1000) ,(1000,900), (0,200,0), thickness=5, lineType=8, shift=0)\n",
    "    img = cv2.line(img, (100,1000) ,(1000,900), (0,200,0), thickness=5, lineType=8, shift=0)\n",
    "    plt.imshow(img)\n",
    "    plt.xlabel('x')\n",
    "    plt.ylabel('y')\n",
    "    plt.title('Lagrange dual 1')\n",
    "#     plt.savefig('langrangedual.png')\n",
    "    return img\n",
    "img = langrange()    \n",
    "# img = img[:,:,::-1]\n",
    "plt.gca().invert_yaxis()\n",
    "img = cv2.putText(img, 'r*', (572,927-100), cv2.FONT_HERSHEY_COMPLEX, \n",
    "                       2, (0, 0, 255), 4, cv2.LINE_AA)\n",
    "# img = cv2.putText(img, 'f(x)', (200,200), cv2.FONT_HERSHEY_COMPLEX, \n",
    "#                        2, (0, 0, 0), 4, cv2.LINE_AA)\n",
    "\n",
    "\n",
    "plt.savefig('langrangedual_1.png')"
   ]
  },
  {
   "cell_type": "code",
   "execution_count": 89,
   "metadata": {},
   "outputs": [
    {
     "name": "stderr",
     "output_type": "stream",
     "text": [
      "Clipping input data to the valid range for imshow with RGB data ([0..1] for floats or [0..255] for integers).\n"
     ]
    },
    {
     "data": {
      "image/png": "[encoded data removed]",
      "text/plain": [
       "<Figure size 432x288 with 1 Axes>"
      ]
     },
     "metadata": {
      "needs_background": "light"
     },
     "output_type": "display_data"
    }
   ],
   "source": [
    "#convex, min\n",
    "def langrange():\n",
    "    img = np.ones((1000,1000,3))*254\n",
    "    img = cv2.line(img, (0,200) ,(100,1000), (200,0,0), thickness=5, lineType=8, shift=0)\n",
    "    img = cv2.line(img, (0,500) ,(500,1000), (200,0,0), thickness=5, lineType=8, shift=0)\n",
    "    img = cv2.line(img, (0,800) ,(900,1000), (200,0,0), thickness=5, lineType=8, shift=0)\n",
    "    img = cv2.line(img, (500,1000) ,(1000,500), (200,0,0), thickness=5, lineType=8, shift=0)\n",
    "    img = cv2.line(img, (800,1000) ,(1000,100), (200,0,0), thickness=5, lineType=8, shift=0)\n",
    "    img = cv2.line(img, (0,200) ,(42,542), (0,0,0), thickness=10, lineType=8, shift=0)\n",
    "    img = cv2.line(img,  (42,542),(385,885), (0,0,0), thickness=10, lineType=8, shift=0)\n",
    "    img = cv2.line(img,  (385,885),(572,927), (0,0,0), thickness=10, lineType=8, shift=0)\n",
    "    img = cv2.line(img,  (885,614),(572,927), (0,0,0), thickness=10, lineType=8, shift=0)\n",
    "    img = cv2.line(img,  (885,614),(1000,100), (0,0,0), thickness=10, lineType=8, shift=0)\n",
    "    img = cv2.circle(img, (572,927) , 40 , (0, 0, 255), 5) \n",
    "    \n",
    "    img = cv2.line(img, (0,500) ,(200,1000), (0,200,0), thickness=5, lineType=8, shift=0)\n",
    "    img = cv2.line(img, (0,900) ,(400,1000), (0,200,0), thickness=5, lineType=8, shift=0)\n",
    "    img = cv2.line(img, (450,1000) ,(1000,900), (0,200,0), thickness=5, lineType=8, shift=0)\n",
    "    img = cv2.line(img, (100,1000) ,(1000,900), (0,200,0), thickness=5, lineType=8, shift=0)\n",
    "    plt.imshow(img)\n",
    "    plt.xlabel('x')\n",
    "    plt.ylabel('y')\n",
    "    plt.title('Lagrange dual 2')\n",
    "#     plt.savefig('langrangedual.png')\n",
    "    return img\n",
    "img = langrange()    \n",
    "# img = img[:,:,::-1]\n",
    "plt.gca().invert_yaxis()\n",
    "img = cv2.putText(img, 'r*', (572,927-100), cv2.FONT_HERSHEY_COMPLEX, \n",
    "                       2, (0, 0, 255), 4, cv2.LINE_AA)\n",
    "# img = cv2.putText(img, 'f(x)', (200,200), cv2.FONT_HERSHEY_COMPLEX, \n",
    "#                        2, (0, 0, 0), 4, cv2.LINE_AA)\n",
    "\n",
    "\n",
    "plt.savefig('langrangedual_2.png')"
   ]
  },
  {
   "cell_type": "code",
   "execution_count": 83,
   "metadata": {},
   "outputs": [
    {
     "data": {
      "image/png": "[encoded data removed]",
      "text/plain": [
       "<Figure size 576x576 with 1 Axes>"
      ]
     },
     "metadata": {
      "needs_background": "light"
     },
     "output_type": "display_data"
    }
   ],
   "source": [
    "\n",
    "fig, ax = plt.subplots(figsize=(8,8))\n",
    "x1 = np.arange(0,1,0.1)\n",
    "x2 = np.arange(0.2,0.4,0.1)\n",
    "y1 = x1 + 3\n",
    "y2 = 2-x2\n",
    "c= plt.Circle((.5, .5), 1, color='b')\n",
    "ax.plot(y1, color='blue', label='Sine wave')\n",
    "ax.plot(y2, color='black', label='Cosine wave')\n",
    "\n",
    "plt.gca().add_patch(c)\n",
    "plt.show()"
   ]
  },
  {
   "cell_type": "code",
   "execution_count": 13,
   "metadata": {},
   "outputs": [
    {
     "data": {
      "text/plain": [
       "-1"
      ]
     },
     "execution_count": 13,
     "metadata": {},
     "output_type": "execute_result"
    }
   ],
   "source": [
    "cv2.imshow('image',img)\n",
    " \n",
    "#waits for user to press any key \n",
    "#(this is necessary to avoid Python kernel form crashing)\n",
    "cv2.waitKey(0) \n",
    "  \n",
    "# #closing all open windows \n",
    "# cv2.destroyAllWindows() "
   ]
  },
  {
   "cell_type": "code",
   "execution_count": 14,
   "metadata": {},
   "outputs": [
    {
     "name": "stderr",
     "output_type": "stream",
     "text": [
      "Clipping input data to the valid range for imshow with RGB data ([0..1] for floats or [0..255] for integers).\n"
     ]
    },
    {
     "data": {
      "text/plain": [
       "<matplotlib.image.AxesImage at 0x7fca335effa0>"
      ]
     },
     "execution_count": 14,
     "metadata": {},
     "output_type": "execute_result"
    },
    {
     "data": {
      "image/png": "[encoded data removed]",
      "text/plain": [
       "<Figure size 432x288 with 1 Axes>"
      ]
     },
     "metadata": {
      "needs_background": "light"
     },
     "output_type": "display_data"
    }
   ],
   "source": [
    "plt.imshow(img)"
   ]
  },
  {
   "cell_type": "code",
   "execution_count": 51,
   "metadata": {},
   "outputs": [
    {
     "data": {
      "image/png": "[encoded data removed]",
      "text/plain": [
       "<Figure size 432x288 with 1 Axes>"
      ]
     },
     "metadata": {
      "needs_background": "light"
     },
     "output_type": "display_data"
    }
   ],
   "source": [
    "# Define limits of coordinate system\n",
    "x1 = -1.5\n",
    "x2 = 1.5\n",
    "y1 = -1.5\n",
    "y2 = 1.5\n",
    "\n",
    "circle1 = plt.Circle((0,0),1, color = 'k', fill = False, clip_on = False)\n",
    "fig, ax = plt.subplots()\n",
    "ax.add_artist(circle1)\n",
    "plt.axis(\"equal\")\n",
    "ax.spines['left'].set_position('zero')\n",
    "ax.spines['bottom'].set_position('zero')\n",
    "ax.spines['right'].set_color('none')\n",
    "ax.spines['top'].set_color('none')\n",
    "ax.xaxis.set_ticks_position('bottom')\n",
    "ax.yaxis.set_ticks_position('left')\n",
    "plt.xlim(left=x1)\n",
    "plt.xlim(right=x2)\n",
    "plt.ylim(bottom=y1)\n",
    "plt.ylim(top=y2)\n",
    "plt.axhline(linewidth=2, color='k')\n",
    "plt.axvline(linewidth=2, color='k')\n",
    "\n",
    "##plt.grid(True)\n",
    "plt.grid(color='k', linestyle='-.', linewidth=0.5)\n",
    "plt.show()"
   ]
  },
  {
   "cell_type": "code",
   "execution_count": null,
   "metadata": {},
   "outputs": [],
   "source": []
  },
  {
   "cell_type": "code",
   "execution_count": null,
   "metadata": {},
   "outputs": [],
   "source": []
  },
  {
   "cell_type": "code",
   "execution_count": null,
   "metadata": {},
   "outputs": [],
   "source": []
  },
  {
   "cell_type": "code",
   "execution_count": null,
   "metadata": {},
   "outputs": [],
   "source": []
  },
  {
   "cell_type": "code",
   "execution_count": 41,
   "metadata": {},
   "outputs": [],
   "source": [
    "def line(a):\n",
    "    x1,y1,x2,y2 = a\n",
    "    m = (y2-y1)/(x2-x1)\n",
    "    y = y1-m*x1\n",
    "    return m,y"
   ]
  },
  {
   "cell_type": "code",
   "execution_count": 42,
   "metadata": {},
   "outputs": [
    {
     "data": {
      "text/plain": [
       "[(8.0, 200.0),\n",
       " (1.0, 500.0),\n",
       " (0.2222222222222222, 800.0),\n",
       " (-1.0, 1500.0),\n",
       " (-4.5, 4600.0)]"
      ]
     },
     "execution_count": 42,
     "metadata": {},
     "output_type": "execute_result"
    }
   ],
   "source": [
    "A = [[0,200,100,1000],[0,500,500,1000],[0,800,900,1000],[500,1000,1000,500],[800,1000,1000,100]]\n",
    "[line(a) for a in A]"
   ]
  },
  {
   "cell_type": "code",
   "execution_count": null,
   "metadata": {},
   "outputs": [],
   "source": []
  }
 ],
 "metadata": {
  "kernelspec": {
   "display_name": "Python 3",
   "language": "python",
   "name": "python3"
  },
  "language_info": {
   "codemirror_mode": {
    "name": "ipython",
    "version": 3
   },
   "file_extension": ".py",
   "mimetype": "text/x-python",
   "name": "python",
   "nbconvert_exporter": "python",
   "pygments_lexer": "ipython3",
   "version": "3.8.10"
  }
 },
 "nbformat": 4,
 "nbformat_minor": 4
}
