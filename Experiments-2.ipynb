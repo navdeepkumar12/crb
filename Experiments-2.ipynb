{
 "cells": [
  {
   "cell_type": "code",
   "execution_count": 1,
   "metadata": {},
   "outputs": [],
   "source": [
    "import numpy as np\n",
    "import matplotlib.pyplot as plt\n",
    "import mdptoolbox\n",
    "import sys \n",
    "sys.path.append('/home/navdeep/scripts/')\n",
    "import tools as tl"
   ]
  },
  {
   "cell_type": "code",
   "execution_count": 2,
   "metadata": {},
   "outputs": [],
   "source": [
    "#single restless Bandit \n",
    "class pm:\n",
    "    n = 12 # number of states\n",
    "    S = np.arange(n)\n",
    "    R = np.zeros(n)\n",
    "    R[0],R[6] = 1,-1\n",
    "    R = np.transpose([R,R]) # reward matrix\n",
    "    A = np.transpose([np.zeros(n),np.ones(n)]) # subsidy matrix  \n",
    "    D = np.arange(n)/n\n",
    "    D = np.transpose([D,D]) # safety matrix\n",
    "    P0 = 2*np.identity(n)/7\n",
    "    P1 = 2*np.identity(n)/7\n",
    "    for i in range(6):\n",
    "        P0[i,np.mod(i+1,n)],P0[i,np.mod(i-1,n)] = 4/7,1/7\n",
    "        P1[i,np.mod(i+1,n)],P1[i,np.mod(i-1,n)] = 1/7,4/7\n",
    "    for i in np.arange(6,n):\n",
    "        P0[i,np.mod(i+1,n)],P0[i,np.mod(i-1,n)] = 1/7,4/7\n",
    "        P1[i,np.mod(i+1,n)],P1[i,np.mod(i-1,n)] = 4/7,1/7\n",
    "    P0[0],P1[0] = np.ones(n)/n, np.ones(n)/n    \n",
    "    P = np.array([P0,P1])\n",
    "    mu = 0\n",
    "    "
   ]
  },
  {
   "cell_type": "code",
   "execution_count": 3,
   "metadata": {},
   "outputs": [
    {
     "data": {
      "text/plain": [
       "array([[0.08333333, 0.08333333, 0.08333333, 0.08333333, 0.08333333,\n",
       "        0.08333333, 0.08333333, 0.08333333, 0.08333333, 0.08333333,\n",
       "        0.08333333, 0.08333333],\n",
       "       [0.14285714, 0.28571429, 0.57142857, 0.        , 0.        ,\n",
       "        0.        , 0.        , 0.        , 0.        , 0.        ,\n",
       "        0.        , 0.        ],\n",
       "       [0.        , 0.14285714, 0.28571429, 0.57142857, 0.        ,\n",
       "        0.        , 0.        , 0.        , 0.        , 0.        ,\n",
       "        0.        , 0.        ],\n",
       "       [0.        , 0.        , 0.14285714, 0.28571429, 0.57142857,\n",
       "        0.        , 0.        , 0.        , 0.        , 0.        ,\n",
       "        0.        , 0.        ],\n",
       "       [0.        , 0.        , 0.        , 0.14285714, 0.28571429,\n",
       "        0.57142857, 0.        , 0.        , 0.        , 0.        ,\n",
       "        0.        , 0.        ],\n",
       "       [0.        , 0.        , 0.        , 0.        , 0.14285714,\n",
       "        0.28571429, 0.57142857, 0.        , 0.        , 0.        ,\n",
       "        0.        , 0.        ],\n",
       "       [0.        , 0.        , 0.        , 0.        , 0.        ,\n",
       "        0.57142857, 0.28571429, 0.14285714, 0.        , 0.        ,\n",
       "        0.        , 0.        ],\n",
       "       [0.        , 0.        , 0.        , 0.        , 0.        ,\n",
       "        0.        , 0.57142857, 0.28571429, 0.14285714, 0.        ,\n",
       "        0.        , 0.        ],\n",
       "       [0.        , 0.        , 0.        , 0.        , 0.        ,\n",
       "        0.        , 0.        , 0.57142857, 0.28571429, 0.14285714,\n",
       "        0.        , 0.        ],\n",
       "       [0.        , 0.        , 0.        , 0.        , 0.        ,\n",
       "        0.        , 0.        , 0.        , 0.57142857, 0.28571429,\n",
       "        0.14285714, 0.        ],\n",
       "       [0.        , 0.        , 0.        , 0.        , 0.        ,\n",
       "        0.        , 0.        , 0.        , 0.        , 0.57142857,\n",
       "        0.28571429, 0.14285714],\n",
       "       [0.14285714, 0.        , 0.        , 0.        , 0.        ,\n",
       "        0.        , 0.        , 0.        , 0.        , 0.        ,\n",
       "        0.57142857, 0.28571429]])"
      ]
     },
     "execution_count": 3,
     "metadata": {},
     "output_type": "execute_result"
    }
   ],
   "source": [
    "pm.P0"
   ]
  },
  {
   "cell_type": "code",
   "execution_count": 15,
   "metadata": {},
   "outputs": [],
   "source": [
    "def pol(pm,l=0): # policy\n",
    "    rvi = mdptoolbox.mdp.RelativeValueIteration(pm.P, pm.R+pm.mu*pm.D+l*pm.A)\n",
    "    rvi.run()\n",
    "    \n",
    "\n",
    "    return rvi.policy, rvi.average_reward\n",
    "        "
   ]
  },
  {
   "cell_type": "code",
   "execution_count": 13,
   "metadata": {},
   "outputs": [
    {
     "name": "stdout",
     "output_type": "stream",
     "text": [
      "-2.0 (0, 0, 1, 1, 1, 1, 0, 0, 0, 1, 1, 1)\n",
      "-1.9 (0, 0, 1, 1, 1, 1, 0, 0, 0, 1, 1, 1)\n",
      "-1.7999999999999998 (0, 0, 1, 1, 1, 1, 0, 0, 0, 1, 1, 1)\n",
      "-1.6999999999999997 (0, 0, 1, 1, 1, 1, 0, 0, 0, 1, 1, 1)\n",
      "-1.5999999999999996 (0, 0, 1, 1, 1, 1, 0, 0, 0, 1, 1, 1)\n",
      "-1.4999999999999996 (0, 0, 1, 1, 1, 1, 0, 0, 0, 1, 1, 1)\n",
      "-1.3999999999999995 (0, 0, 1, 1, 1, 1, 0, 0, 0, 1, 1, 1)\n",
      "-1.2999999999999994 (0, 0, 1, 1, 1, 1, 0, 0, 0, 1, 1, 1)\n",
      "-1.1999999999999993 (0, 0, 1, 1, 1, 1, 0, 0, 0, 1, 1, 1)\n",
      "-1.0999999999999992 (0, 0, 1, 1, 1, 1, 0, 0, 0, 1, 1, 1)\n",
      "-0.9999999999999991 (0, 0, 1, 1, 1, 1, 0, 0, 0, 1, 1, 1)\n",
      "-0.899999999999999 (0, 0, 1, 1, 1, 1, 0, 0, 0, 1, 1, 1)\n",
      "-0.7999999999999989 (0, 0, 1, 1, 1, 1, 0, 0, 1, 1, 1, 1)\n",
      "-0.6999999999999988 (0, 0, 1, 1, 1, 1, 0, 0, 1, 1, 1, 1)\n",
      "-0.5999999999999988 (0, 0, 1, 1, 1, 1, 0, 0, 1, 1, 1, 1)\n",
      "-0.49999999999999867 (0, 0, 1, 1, 1, 1, 0, 1, 1, 1, 1, 1)\n",
      "-0.3999999999999986 (0, 0, 1, 1, 1, 1, 0, 1, 1, 1, 1, 1)\n",
      "-0.2999999999999985 (0, 1, 1, 1, 1, 1, 0, 1, 1, 1, 1, 1)\n",
      "-0.1999999999999984 (0, 1, 1, 1, 1, 1, 0, 1, 1, 1, 1, 1)\n",
      "-0.09999999999999831 (0, 1, 1, 1, 1, 1, 0, 1, 1, 1, 1, 1)\n",
      "1.7763568394002505e-15 (0, 1, 1, 1, 1, 1, 1, 1, 1, 1, 1, 1)\n",
      "0.10000000000000187 (0, 1, 1, 1, 1, 1, 1, 1, 1, 1, 1, 1)\n",
      "0.20000000000000195 (0, 1, 1, 1, 1, 1, 1, 1, 1, 1, 1, 1)\n",
      "0.30000000000000204 (0, 1, 1, 1, 1, 1, 1, 1, 1, 1, 1, 0)\n",
      "0.40000000000000213 (0, 1, 1, 1, 1, 1, 1, 1, 1, 1, 1, 0)\n",
      "0.5000000000000022 (0, 1, 1, 1, 1, 0, 1, 1, 1, 1, 0, 0)\n",
      "0.6000000000000023 (0, 1, 1, 1, 1, 0, 1, 1, 1, 1, 0, 0)\n",
      "0.7000000000000024 (0, 1, 1, 1, 0, 0, 1, 1, 1, 1, 0, 0)\n",
      "0.8000000000000025 (0, 1, 1, 1, 0, 0, 1, 1, 1, 1, 0, 0)\n",
      "0.9000000000000026 (0, 1, 1, 1, 0, 0, 1, 1, 1, 1, 0, 0)\n",
      "1.0000000000000027 (0, 1, 1, 1, 0, 0, 1, 1, 1, 1, 0, 0)\n",
      "1.1000000000000028 (0, 1, 1, 1, 0, 0, 1, 1, 1, 1, 0, 0)\n",
      "1.2000000000000028 (0, 1, 1, 0, 0, 0, 1, 1, 1, 1, 0, 0)\n",
      "1.300000000000003 (0, 1, 1, 0, 0, 0, 1, 1, 1, 1, 0, 0)\n",
      "1.400000000000003 (0, 1, 1, 0, 0, 0, 1, 1, 1, 1, 0, 0)\n",
      "1.500000000000003 (0, 1, 1, 0, 0, 0, 1, 1, 1, 1, 0, 0)\n",
      "1.6000000000000032 (0, 1, 1, 0, 0, 0, 1, 1, 1, 1, 0, 0)\n",
      "1.7000000000000033 (0, 1, 1, 0, 0, 0, 1, 1, 1, 1, 0, 0)\n",
      "1.8000000000000034 (0, 1, 1, 0, 0, 0, 1, 1, 1, 1, 0, 0)\n",
      "1.9000000000000035 (0, 1, 1, 0, 0, 0, 1, 1, 1, 1, 0, 0)\n"
     ]
    }
   ],
   "source": [
    "for mu in np.arange(-2,2,0.1):\n",
    "    pm.mu = mu\n",
    "    print(mu,pol(pm))"
   ]
  },
  {
   "cell_type": "code",
   "execution_count": 6,
   "metadata": {},
   "outputs": [],
   "source": [
    "def stat(pm,pi):\n",
    "    P = np.array([pm.P[a][i] for i,a in enumerate(pi)])\n",
    "\n",
    "    for i in range(10):\n",
    "        P = P@P\n",
    "    d = np.round(np.mean(P, axis=0)*10000)/10000\n",
    "    return d"
   ]
  },
  {
   "cell_type": "code",
   "execution_count": 7,
   "metadata": {},
   "outputs": [
    {
     "data": {
      "text/plain": [
       "array([0.1278, 0.1118, 0.1211, 0.1048, 0.0821, 0.0578, 0.0331, 0.033 ,\n",
       "       0.0574, 0.0804, 0.0978, 0.0932])"
      ]
     },
     "execution_count": 7,
     "metadata": {},
     "output_type": "execute_result"
    }
   ],
   "source": [
    "stat(pm,pol(pm))"
   ]
  },
  {
   "cell_type": "code",
   "execution_count": null,
   "metadata": {},
   "outputs": [],
   "source": []
  },
  {
   "cell_type": "code",
   "execution_count": 24,
   "metadata": {},
   "outputs": [
    {
     "data": {
      "text/plain": [
       "Text(0.5, 1.0, 'Lagrange')"
      ]
     },
     "execution_count": 24,
     "metadata": {},
     "output_type": "execute_result"
    },
    {
     "data": {
      "image/png": "[encoded data removed]",
      "text/plain": [
       "<Figure size 432x288 with 1 Axes>"
      ]
     },
     "metadata": {
      "needs_background": "light"
     },
     "output_type": "display_data"
    },
    {
     "data": {
      "image/png": "[encoded data removed]",
      "text/plain": [
       "<Figure size 432x288 with 1 Axes>"
      ]
     },
     "metadata": {
      "needs_background": "light"
     },
     "output_type": "display_data"
    },
    {
     "data": {
      "image/png": "[encoded data removed]",
      "text/plain": [
       "<Figure size 432x288 with 1 Axes>"
      ]
     },
     "metadata": {
      "needs_background": "light"
     },
     "output_type": "display_data"
    },
    {
     "data": {
      "image/png": "[encoded data removed]",
      "text/plain": [
       "<Figure size 432x288 with 1 Axes>"
      ]
     },
     "metadata": {
      "needs_background": "light"
     },
     "output_type": "display_data"
    }
   ],
   "source": [
    "pm.mu=0\n",
    "A = []\n",
    "for mu in np.arange(-3,3,0.1):\n",
    "    pm.mu = mu\n",
    "    pi,l = pol(pm,0)\n",
    "    d = stat(pm,pi)\n",
    "    a = np.sum(d*pi)\n",
    "    r = np.sum(pm.R[:,0]*d)\n",
    "    c = np.sum(pm.D[:,0]*d)\n",
    "    A.append([a,r,c,l])\n",
    "A = np.array(A)    \n",
    "plt.plot(A[::,0],'o')\n",
    "plt.title('Activity')\n",
    "plt.figure()\n",
    "plt.plot(A[::,1],'o')\n",
    "plt.title('Reward')\n",
    "plt.figure()\n",
    "plt.plot(A[::,2],'o')\n",
    "plt.title('Safety')\n",
    "plt.figure()\n",
    "plt.plot(A[::,3],'o')\n",
    "plt.title('Lagrange')"
   ]
  },
  {
   "cell_type": "code",
   "execution_count": 23,
   "metadata": {},
   "outputs": [
    {
     "name": "stdout",
     "output_type": "stream",
     "text": [
      "-4 -4 1.0 12 5 0.9166666666666666 0.4166666666666667 [2 4 3 2 1 0 4 4 4 4 2 1]\n",
      "-4 -4 0.5 12 6 1.0 0.0 [ 8 12 10  8  6  4 11 12 12 12  8  6]\n",
      "-4 -4 0.25 12 8 1.0 0.0 [16 23 19 15 12  7 22 24 24 24 15 12]\n",
      "-4 -4 0.125 12 10 1.0 0.0 [32 46 37 30 24 14 44 47 47 47 29 23]\n",
      "-4 -4 0.0625 12 11 1.0 0.0 [64 91 74 59 48 28 88 93 93 94 58 45]\n",
      "-4 -4 0.03125 12 12 1.0 0.0 [128 181 148 118  95  56 176 185 186 187 115  90]\n"
     ]
    },
    {
     "data": {
      "text/plain": [
       "array([ 0.     ,  1.65625,  0.625  , -0.3125 , -1.03125, -2.25   ,\n",
       "        1.5    ,  1.78125,  1.8125 ,  1.84375, -0.40625, -1.1875 ])"
      ]
     },
     "execution_count": 23,
     "metadata": {},
     "output_type": "execute_result"
    }
   ],
   "source": [
    "tl.whittle(pm)"
   ]
  },
  {
   "cell_type": "code",
   "execution_count": 29,
   "metadata": {},
   "outputs": [
    {
     "data": {
      "text/plain": [
       "array([[ 0.    , -0.0127],\n",
       "       [ 0.    , -0.0127],\n",
       "       [ 0.    , -0.0127],\n",
       "       [ 0.    , -0.0127],\n",
       "       [ 0.    , -0.0127],\n",
       "       [ 0.    , -0.0127],\n",
       "       [ 0.    , -0.0127],\n",
       "       [ 0.    , -0.0127],\n",
       "       [ 0.    , -0.0127],\n",
       "       [ 0.    , -0.0127],\n",
       "       [ 0.    , -0.0127],\n",
       "       [ 0.    , -0.0127],\n",
       "       [ 0.0142, -0.0011],\n",
       "       [ 0.0142, -0.0011],\n",
       "       [ 0.0142, -0.0011],\n",
       "       [ 0.0142, -0.0011],\n",
       "       [ 0.0518,  0.0164],\n",
       "       [ 0.1215,  0.0395],\n",
       "       [ 0.3618,  0.0947],\n",
       "       [ 0.3618,  0.0947],\n",
       "       [ 0.6385,  0.0947],\n",
       "       [ 0.6385,  0.0947],\n",
       "       [ 0.6385,  0.0947],\n",
       "       [ 0.8785,  0.0395],\n",
       "       [ 0.9479,  0.0164],\n",
       "       [ 0.9857, -0.0011],\n",
       "       [ 0.9857, -0.0011],\n",
       "       [ 0.9857, -0.0011],\n",
       "       [ 0.9857, -0.0011],\n",
       "       [ 1.0001, -0.0127],\n",
       "       [ 1.0001, -0.0127],\n",
       "       [ 1.0001, -0.0127],\n",
       "       [ 1.0001, -0.0127],\n",
       "       [ 1.0001, -0.0127],\n",
       "       [ 1.0001, -0.0127],\n",
       "       [ 1.0001, -0.0127],\n",
       "       [ 1.0001, -0.0127],\n",
       "       [ 1.0001, -0.0127],\n",
       "       [ 1.0001, -0.0127],\n",
       "       [ 1.0001, -0.0127]])"
      ]
     },
     "execution_count": 29,
     "metadata": {},
     "output_type": "execute_result"
    }
   ],
   "source": [
    "A"
   ]
  },
  {
   "cell_type": "code",
   "execution_count": 27,
   "metadata": {},
   "outputs": [
    {
     "data": {
      "text/plain": [
       "array([5.00000000e-001, 5.69618908e-306, 5.56268465e-309, 0.00000000e+000,\n",
       "       0.00000000e+000, 0.00000000e+000, 0.00000000e+000, 0.00000000e+000,\n",
       "       0.00000000e+000, 0.00000000e+000, 0.00000000e+000, 5.00000000e-001])"
      ]
     },
     "execution_count": 27,
     "metadata": {},
     "output_type": "execute_result"
    }
   ],
   "source": [
    "P[2]"
   ]
  },
  {
   "cell_type": "code",
   "execution_count": 28,
   "metadata": {},
   "outputs": [
    {
     "data": {
      "text/plain": [
       "array([[5.00000000e-001, 0.00000000e+000, 0.00000000e+000,\n",
       "        0.00000000e+000, 0.00000000e+000, 0.00000000e+000,\n",
       "        0.00000000e+000, 0.00000000e+000, 0.00000000e+000,\n",
       "        0.00000000e+000, 0.00000000e+000, 5.00000000e-001],\n",
       "       [5.00000000e-001, 5.56268465e-309, 0.00000000e+000,\n",
       "        0.00000000e+000, 0.00000000e+000, 0.00000000e+000,\n",
       "        0.00000000e+000, 0.00000000e+000, 0.00000000e+000,\n",
       "        0.00000000e+000, 0.00000000e+000, 5.00000000e-001],\n",
       "       [5.00000000e-001, 5.69618908e-306, 5.56268465e-309,\n",
       "        0.00000000e+000, 0.00000000e+000, 0.00000000e+000,\n",
       "        0.00000000e+000, 0.00000000e+000, 0.00000000e+000,\n",
       "        0.00000000e+000, 0.00000000e+000, 5.00000000e-001],\n",
       "       [5.00000000e-001, 2.91360071e-303, 5.69618908e-306,\n",
       "        5.56268465e-309, 0.00000000e+000, 0.00000000e+000,\n",
       "        0.00000000e+000, 0.00000000e+000, 0.00000000e+000,\n",
       "        0.00000000e+000, 0.00000000e+000, 5.00000000e-001],\n",
       "       [5.00000000e-001, 9.92566643e-301, 2.91360071e-303,\n",
       "        5.69618908e-306, 5.56268465e-309, 0.00000000e+000,\n",
       "        0.00000000e+000, 0.00000000e+000, 0.00000000e+000,\n",
       "        0.00000000e+000, 0.00000000e+000, 5.00000000e-001],\n",
       "       [5.00000000e-001, 0.00000000e+000, 0.00000000e+000,\n",
       "        0.00000000e+000, 0.00000000e+000, 5.56268465e-309,\n",
       "        5.69618908e-306, 2.91360071e-303, 9.92566643e-301,\n",
       "        2.53352636e-298, 5.16839377e-296, 5.00000000e-001],\n",
       "       [5.00000000e-001, 0.00000000e+000, 0.00000000e+000,\n",
       "        0.00000000e+000, 0.00000000e+000, 0.00000000e+000,\n",
       "        5.56268465e-309, 5.69618908e-306, 2.91360071e-303,\n",
       "        9.92566643e-301, 2.53352636e-298, 5.00000000e-001],\n",
       "       [5.00000000e-001, 0.00000000e+000, 0.00000000e+000,\n",
       "        0.00000000e+000, 0.00000000e+000, 0.00000000e+000,\n",
       "        0.00000000e+000, 5.56268465e-309, 5.69618908e-306,\n",
       "        2.91360071e-303, 9.92566643e-301, 5.00000000e-001],\n",
       "       [5.00000000e-001, 0.00000000e+000, 0.00000000e+000,\n",
       "        0.00000000e+000, 0.00000000e+000, 0.00000000e+000,\n",
       "        0.00000000e+000, 0.00000000e+000, 5.56268465e-309,\n",
       "        5.69618908e-306, 2.91360071e-303, 5.00000000e-001],\n",
       "       [5.00000000e-001, 0.00000000e+000, 0.00000000e+000,\n",
       "        0.00000000e+000, 0.00000000e+000, 0.00000000e+000,\n",
       "        0.00000000e+000, 0.00000000e+000, 0.00000000e+000,\n",
       "        5.56268465e-309, 5.69618908e-306, 5.00000000e-001],\n",
       "       [5.00000000e-001, 0.00000000e+000, 0.00000000e+000,\n",
       "        0.00000000e+000, 0.00000000e+000, 0.00000000e+000,\n",
       "        0.00000000e+000, 0.00000000e+000, 0.00000000e+000,\n",
       "        0.00000000e+000, 5.56268465e-309, 5.00000000e-001],\n",
       "       [5.00000000e-001, 0.00000000e+000, 0.00000000e+000,\n",
       "        0.00000000e+000, 0.00000000e+000, 0.00000000e+000,\n",
       "        0.00000000e+000, 0.00000000e+000, 0.00000000e+000,\n",
       "        0.00000000e+000, 0.00000000e+000, 5.00000000e-001]])"
      ]
     },
     "execution_count": 28,
     "metadata": {},
     "output_type": "execute_result"
    }
   ],
   "source": [
    "P"
   ]
  },
  {
   "cell_type": "code",
   "execution_count": null,
   "metadata": {},
   "outputs": [],
   "source": []
  }
 ],
 "metadata": {
  "kernelspec": {
   "display_name": "Python 3",
   "language": "python",
   "name": "python3"
  },
  "language_info": {
   "codemirror_mode": {
    "name": "ipython",
    "version": 3
   },
   "file_extension": ".py",
   "mimetype": "text/x-python",
   "name": "python",
   "nbconvert_exporter": "python",
   "pygments_lexer": "ipython3",
   "version": "3.7.4"
  }
 },
 "nbformat": 4,
 "nbformat_minor": 4
}
